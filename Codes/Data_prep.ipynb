{
 "cells": [
  {
   "cell_type": "code",
   "execution_count": null,
   "metadata": {
    "colab": {
     "base_uri": "https://localhost:8080/"
    },
    "executionInfo": {
     "elapsed": 24505,
     "status": "ok",
     "timestamp": 1716646449623,
     "user": {
      "displayName": "Areejit Samal",
      "userId": "03106480637751642097"
     },
     "user_tz": -330
    },
    "id": "P1UbAQENGYk4",
    "outputId": "191d9f20-2c79-4474-e8ad-6e5e3d864806"
   },
   "outputs": [],
   "source": [
    "from google.colab import drive\n",
    "drive.mount('/content/drive')"
   ]
  },
  {
   "cell_type": "code",
   "execution_count": null,
   "metadata": {},
   "outputs": [],
   "source": [
    "import torch\n",
    "import torchvision\n",
    "from torchvision import datasets\n",
    "from torch.utils.data import DataLoader\n",
    "import torchvision.transforms as transforms\n",
    "import os\n",
    "import shutil\n",
    "import torch\n",
    "from torchvision.datasets.folder import ImageFolder"
   ]
  },
  {
   "cell_type": "code",
   "execution_count": 5,
   "metadata": {
    "executionInfo": {
     "elapsed": 11611,
     "status": "ok",
     "timestamp": 1716646475150,
     "user": {
      "displayName": "Areejit Samal",
      "userId": "03106480637751642097"
     },
     "user_tz": -330
    },
    "id": "PIWpkGP9Ftae"
   },
   "outputs": [],
   "source": [
    "PATH = '/content/drive/MyDrive/Covid_data'\n",
    "data_dir = PATH + '/train'\n",
    "\n",
    "\n",
    "transform = torchvision.transforms.Compose([\n",
    "     transforms.CenterCrop(224),\n",
    "     transforms.ToTensor(),\n",
    "     transforms.ConvertImageDtype(torch.float),\n",
    "     transforms.Normalize(mean=[0.485, 0.456, 0.406],std= [0.229, 0.224, 0.225])\n",
    "])\n",
    "\n",
    "\n",
    "dataset = datasets.ImageFolder(data_dir, transform=transform)\n",
    "train_loader = torch.utils.data.DataLoader(dataset, batch_size=10, shuffle=True)\n",
    "torch.save(train_loader, '/content/drive/MyDrive/Outputs/train_data.pth')"
   ]
  },
  {
   "cell_type": "code",
   "execution_count": 6,
   "metadata": {
    "executionInfo": {
     "elapsed": 14117,
     "status": "ok",
     "timestamp": 1716646489251,
     "user": {
      "displayName": "Areejit Samal",
      "userId": "03106480637751642097"
     },
     "user_tz": -330
    },
    "id": "gBUsP4bHFuCN"
   },
   "outputs": [],
   "source": [
    "PATH = '/content/drive/MyDrive/Covid_data'\n",
    "data_dir = PATH + '/test'\n",
    "\n",
    "transform = torchvision.transforms.Compose([\n",
    "     transforms.CenterCrop(224),\n",
    "     transforms.ToTensor(),\n",
    "     transforms.ConvertImageDtype(torch.float),\n",
    "     transforms.Normalize(mean=[0.485, 0.456, 0.406],std= [0.229, 0.224, 0.225])\n",
    "])\n",
    "\n",
    "\n",
    "dataset_test = datasets.ImageFolder(data_dir, transform=transform)\n",
    "val_loader = torch.utils.data.DataLoader(dataset_test, batch_size=10, shuffle=True)\n",
    "torch.save(val_loader, '/content/drive/MyDrive/Outputs/val_data.pth')"
   ]
  }
 ],
 "metadata": {
  "colab": {
   "authorship_tag": "ABX9TyM+q2by1VAbkMmw9vTFfGF0",
   "provenance": []
  },
  "kernelspec": {
   "display_name": "Python 3 (ipykernel)",
   "language": "python",
   "name": "python3"
  },
  "language_info": {
   "codemirror_mode": {
    "name": "ipython",
    "version": 3
   },
   "file_extension": ".py",
   "mimetype": "text/x-python",
   "name": "python",
   "nbconvert_exporter": "python",
   "pygments_lexer": "ipython3",
   "version": "3.11.7"
  }
 },
 "nbformat": 4,
 "nbformat_minor": 4
}
